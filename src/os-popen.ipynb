{
 "cells": [
  {
   "cell_type": "code",
   "execution_count": null,
   "id": "3cf3923e-3941-45b0-8624-f85fff5b0fbe",
   "metadata": {},
   "outputs": [],
   "source": [
    "import os\n",
    "from os import popen\n",
    "import os as o\n",
    "from os import popen as pos"
   ]
  },
  {
   "cell_type": "markdown",
   "id": "92c06b95-96e1-4754-a04e-9f0e640a077c",
   "metadata": {},
   "source": [
    "# README\n",
    "\n",
    "This code contains naughty code that should be caught by bandit, from <https://github.com/PyCQA/bandit/blob/e0a12a973bd58f23f16b3fe84190f7bffa0e7cde/examples/os-popen.py>"
   ]
  },
  {
   "cell_type": "code",
   "execution_count": null,
   "id": "627cad1c-e4bb-4ac5-86af-6aa4d8313053",
   "metadata": {},
   "outputs": [],
   "source": [
    "os.popen('/bin/uname -av')\n",
    "popen('/bin/uname -av')\n",
    "o.popen('/bin/uname -av')\n",
    "pos('/bin/uname -av')\n",
    "os.popen2('/bin/uname -av')\n",
    "os.popen3('/bin/uname -av')\n",
    "os.popen4('/bin/uname -av')\n",
    "\n",
    "os.popen4('/bin/uname -av; rm -rf /')\n",
    "os.popen4(some_var)"
   ]
  }
 ],
 "metadata": {
  "kernelspec": {
   "display_name": "Python 3 (ipykernel)",
   "language": "python",
   "name": "python3"
  },
  "language_info": {
   "codemirror_mode": {
    "name": "ipython",
    "version": 3
   },
   "file_extension": ".py",
   "mimetype": "text/x-python",
   "name": "python",
   "nbconvert_exporter": "python",
   "pygments_lexer": "ipython3",
   "version": "3.10.1"
  }
 },
 "nbformat": 4,
 "nbformat_minor": 5
}
